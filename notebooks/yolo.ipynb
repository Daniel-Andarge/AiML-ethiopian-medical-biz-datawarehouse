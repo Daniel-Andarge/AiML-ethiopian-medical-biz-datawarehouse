{
 "cells": [
  {
   "cell_type": "code",
   "execution_count": 1,
   "metadata": {},
   "outputs": [],
   "source": [
    "import warnings\n",
    "warnings.filterwarnings('ignore')"
   ]
  },
  {
   "cell_type": "code",
   "execution_count": 2,
   "metadata": {
    "colab": {
     "base_uri": "https://localhost:8080/"
    },
    "id": "jSWY80ZoBZZI",
    "outputId": "1da0fe8c-971c-40c2-d7cf-1bb476a8dd17"
   },
   "outputs": [
    {
     "name": "stdout",
     "output_type": "stream",
     "text": [
      "Requirement already satisfied: opencv-python in c:\\users\\administrator\\downloads\\10-academy\\week-7\\ethiopian-medical-biz-datawarehouse\\.venv\\lib\\site-packages (4.8.1.78)\n",
      "Requirement already satisfied: torch in c:\\users\\administrator\\downloads\\10-academy\\week-7\\ethiopian-medical-biz-datawarehouse\\.venv\\lib\\site-packages (2.3.1)\n",
      "Requirement already satisfied: torchvision in c:\\users\\administrator\\downloads\\10-academy\\week-7\\ethiopian-medical-biz-datawarehouse\\.venv\\lib\\site-packages (0.18.1)\n",
      "Requirement already satisfied: tensorflow in c:\\users\\administrator\\downloads\\10-academy\\week-7\\ethiopian-medical-biz-datawarehouse\\.venv\\lib\\site-packages (2.16.1)\n",
      "Requirement already satisfied: numpy>=1.21.2 in c:\\users\\administrator\\downloads\\10-academy\\week-7\\ethiopian-medical-biz-datawarehouse\\.venv\\lib\\site-packages (from opencv-python) (1.26.4)\n",
      "Requirement already satisfied: filelock in c:\\users\\administrator\\downloads\\10-academy\\week-7\\ethiopian-medical-biz-datawarehouse\\.venv\\lib\\site-packages (from torch) (3.15.1)\n",
      "Requirement already satisfied: typing-extensions>=4.8.0 in c:\\users\\administrator\\downloads\\10-academy\\week-7\\ethiopian-medical-biz-datawarehouse\\.venv\\lib\\site-packages (from torch) (4.12.2)\n",
      "Requirement already satisfied: sympy in c:\\users\\administrator\\downloads\\10-academy\\week-7\\ethiopian-medical-biz-datawarehouse\\.venv\\lib\\site-packages (from torch) (1.12.1)\n",
      "Requirement already satisfied: networkx in c:\\users\\administrator\\downloads\\10-academy\\week-7\\ethiopian-medical-biz-datawarehouse\\.venv\\lib\\site-packages (from torch) (3.3)\n",
      "Requirement already satisfied: jinja2 in c:\\users\\administrator\\downloads\\10-academy\\week-7\\ethiopian-medical-biz-datawarehouse\\.venv\\lib\\site-packages (from torch) (3.1.4)\n",
      "Requirement already satisfied: fsspec in c:\\users\\administrator\\downloads\\10-academy\\week-7\\ethiopian-medical-biz-datawarehouse\\.venv\\lib\\site-packages (from torch) (2024.6.0)\n",
      "Requirement already satisfied: mkl<=2021.4.0,>=2021.1.1 in c:\\users\\administrator\\downloads\\10-academy\\week-7\\ethiopian-medical-biz-datawarehouse\\.venv\\lib\\site-packages (from torch) (2021.4.0)\n",
      "Requirement already satisfied: pillow!=8.3.*,>=5.3.0 in c:\\users\\administrator\\downloads\\10-academy\\week-7\\ethiopian-medical-biz-datawarehouse\\.venv\\lib\\site-packages (from torchvision) (10.3.0)\n",
      "Requirement already satisfied: tensorflow-intel==2.16.1 in c:\\users\\administrator\\downloads\\10-academy\\week-7\\ethiopian-medical-biz-datawarehouse\\.venv\\lib\\site-packages (from tensorflow) (2.16.1)\n",
      "Requirement already satisfied: absl-py>=1.0.0 in c:\\users\\administrator\\downloads\\10-academy\\week-7\\ethiopian-medical-biz-datawarehouse\\.venv\\lib\\site-packages (from tensorflow-intel==2.16.1->tensorflow) (2.1.0)\n",
      "Requirement already satisfied: astunparse>=1.6.0 in c:\\users\\administrator\\downloads\\10-academy\\week-7\\ethiopian-medical-biz-datawarehouse\\.venv\\lib\\site-packages (from tensorflow-intel==2.16.1->tensorflow) (1.6.3)\n",
      "Requirement already satisfied: flatbuffers>=23.5.26 in c:\\users\\administrator\\downloads\\10-academy\\week-7\\ethiopian-medical-biz-datawarehouse\\.venv\\lib\\site-packages (from tensorflow-intel==2.16.1->tensorflow) (24.3.25)\n",
      "Requirement already satisfied: gast!=0.5.0,!=0.5.1,!=0.5.2,>=0.2.1 in c:\\users\\administrator\\downloads\\10-academy\\week-7\\ethiopian-medical-biz-datawarehouse\\.venv\\lib\\site-packages (from tensorflow-intel==2.16.1->tensorflow) (0.5.4)\n",
      "Requirement already satisfied: google-pasta>=0.1.1 in c:\\users\\administrator\\downloads\\10-academy\\week-7\\ethiopian-medical-biz-datawarehouse\\.venv\\lib\\site-packages (from tensorflow-intel==2.16.1->tensorflow) (0.2.0)\n",
      "Requirement already satisfied: h5py>=3.10.0 in c:\\users\\administrator\\downloads\\10-academy\\week-7\\ethiopian-medical-biz-datawarehouse\\.venv\\lib\\site-packages (from tensorflow-intel==2.16.1->tensorflow) (3.11.0)\n",
      "Requirement already satisfied: libclang>=13.0.0 in c:\\users\\administrator\\downloads\\10-academy\\week-7\\ethiopian-medical-biz-datawarehouse\\.venv\\lib\\site-packages (from tensorflow-intel==2.16.1->tensorflow) (18.1.1)\n",
      "Requirement already satisfied: ml-dtypes~=0.3.1 in c:\\users\\administrator\\downloads\\10-academy\\week-7\\ethiopian-medical-biz-datawarehouse\\.venv\\lib\\site-packages (from tensorflow-intel==2.16.1->tensorflow) (0.3.2)\n",
      "Requirement already satisfied: opt-einsum>=2.3.2 in c:\\users\\administrator\\downloads\\10-academy\\week-7\\ethiopian-medical-biz-datawarehouse\\.venv\\lib\\site-packages (from tensorflow-intel==2.16.1->tensorflow) (3.3.0)\n",
      "Requirement already satisfied: packaging in c:\\users\\administrator\\downloads\\10-academy\\week-7\\ethiopian-medical-biz-datawarehouse\\.venv\\lib\\site-packages (from tensorflow-intel==2.16.1->tensorflow) (24.1)\n",
      "Requirement already satisfied: protobuf!=4.21.0,!=4.21.1,!=4.21.2,!=4.21.3,!=4.21.4,!=4.21.5,<5.0.0dev,>=3.20.3 in c:\\users\\administrator\\downloads\\10-academy\\week-7\\ethiopian-medical-biz-datawarehouse\\.venv\\lib\\site-packages (from tensorflow-intel==2.16.1->tensorflow) (4.25.3)\n",
      "Requirement already satisfied: requests<3,>=2.21.0 in c:\\users\\administrator\\downloads\\10-academy\\week-7\\ethiopian-medical-biz-datawarehouse\\.venv\\lib\\site-packages (from tensorflow-intel==2.16.1->tensorflow) (2.32.3)\n",
      "Requirement already satisfied: setuptools in c:\\users\\administrator\\downloads\\10-academy\\week-7\\ethiopian-medical-biz-datawarehouse\\.venv\\lib\\site-packages (from tensorflow-intel==2.16.1->tensorflow) (70.0.0)\n",
      "Requirement already satisfied: six>=1.12.0 in c:\\users\\administrator\\downloads\\10-academy\\week-7\\ethiopian-medical-biz-datawarehouse\\.venv\\lib\\site-packages (from tensorflow-intel==2.16.1->tensorflow) (1.16.0)\n",
      "Requirement already satisfied: termcolor>=1.1.0 in c:\\users\\administrator\\downloads\\10-academy\\week-7\\ethiopian-medical-biz-datawarehouse\\.venv\\lib\\site-packages (from tensorflow-intel==2.16.1->tensorflow) (2.4.0)\n",
      "Requirement already satisfied: wrapt>=1.11.0 in c:\\users\\administrator\\downloads\\10-academy\\week-7\\ethiopian-medical-biz-datawarehouse\\.venv\\lib\\site-packages (from tensorflow-intel==2.16.1->tensorflow) (1.16.0)\n",
      "Requirement already satisfied: grpcio<2.0,>=1.24.3 in c:\\users\\administrator\\downloads\\10-academy\\week-7\\ethiopian-medical-biz-datawarehouse\\.venv\\lib\\site-packages (from tensorflow-intel==2.16.1->tensorflow) (1.64.1)\n",
      "Requirement already satisfied: tensorboard<2.17,>=2.16 in c:\\users\\administrator\\downloads\\10-academy\\week-7\\ethiopian-medical-biz-datawarehouse\\.venv\\lib\\site-packages (from tensorflow-intel==2.16.1->tensorflow) (2.16.2)\n",
      "Requirement already satisfied: keras>=3.0.0 in c:\\users\\administrator\\downloads\\10-academy\\week-7\\ethiopian-medical-biz-datawarehouse\\.venv\\lib\\site-packages (from tensorflow-intel==2.16.1->tensorflow) (3.3.3)\n",
      "Requirement already satisfied: intel-openmp==2021.* in c:\\users\\administrator\\downloads\\10-academy\\week-7\\ethiopian-medical-biz-datawarehouse\\.venv\\lib\\site-packages (from mkl<=2021.4.0,>=2021.1.1->torch) (2021.4.0)\n",
      "Requirement already satisfied: tbb==2021.* in c:\\users\\administrator\\downloads\\10-academy\\week-7\\ethiopian-medical-biz-datawarehouse\\.venv\\lib\\site-packages (from mkl<=2021.4.0,>=2021.1.1->torch) (2021.12.0)\n",
      "Requirement already satisfied: MarkupSafe>=2.0 in c:\\users\\administrator\\downloads\\10-academy\\week-7\\ethiopian-medical-biz-datawarehouse\\.venv\\lib\\site-packages (from jinja2->torch) (2.1.5)\n",
      "Requirement already satisfied: mpmath<1.4.0,>=1.1.0 in c:\\users\\administrator\\downloads\\10-academy\\week-7\\ethiopian-medical-biz-datawarehouse\\.venv\\lib\\site-packages (from sympy->torch) (1.3.0)\n",
      "Requirement already satisfied: wheel<1.0,>=0.23.0 in c:\\users\\administrator\\downloads\\10-academy\\week-7\\ethiopian-medical-biz-datawarehouse\\.venv\\lib\\site-packages (from astunparse>=1.6.0->tensorflow-intel==2.16.1->tensorflow) (0.43.0)\n",
      "Requirement already satisfied: rich in c:\\users\\administrator\\downloads\\10-academy\\week-7\\ethiopian-medical-biz-datawarehouse\\.venv\\lib\\site-packages (from keras>=3.0.0->tensorflow-intel==2.16.1->tensorflow) (13.7.1)\n",
      "Requirement already satisfied: namex in c:\\users\\administrator\\downloads\\10-academy\\week-7\\ethiopian-medical-biz-datawarehouse\\.venv\\lib\\site-packages (from keras>=3.0.0->tensorflow-intel==2.16.1->tensorflow) (0.0.8)\n",
      "Requirement already satisfied: optree in c:\\users\\administrator\\downloads\\10-academy\\week-7\\ethiopian-medical-biz-datawarehouse\\.venv\\lib\\site-packages (from keras>=3.0.0->tensorflow-intel==2.16.1->tensorflow) (0.11.0)\n",
      "Requirement already satisfied: charset-normalizer<4,>=2 in c:\\users\\administrator\\downloads\\10-academy\\week-7\\ethiopian-medical-biz-datawarehouse\\.venv\\lib\\site-packages (from requests<3,>=2.21.0->tensorflow-intel==2.16.1->tensorflow) (3.3.2)\n",
      "Requirement already satisfied: idna<4,>=2.5 in c:\\users\\administrator\\downloads\\10-academy\\week-7\\ethiopian-medical-biz-datawarehouse\\.venv\\lib\\site-packages (from requests<3,>=2.21.0->tensorflow-intel==2.16.1->tensorflow) (2.10)\n",
      "Requirement already satisfied: urllib3<3,>=1.21.1 in c:\\users\\administrator\\downloads\\10-academy\\week-7\\ethiopian-medical-biz-datawarehouse\\.venv\\lib\\site-packages (from requests<3,>=2.21.0->tensorflow-intel==2.16.1->tensorflow) (2.2.1)\n",
      "Requirement already satisfied: certifi>=2017.4.17 in c:\\users\\administrator\\downloads\\10-academy\\week-7\\ethiopian-medical-biz-datawarehouse\\.venv\\lib\\site-packages (from requests<3,>=2.21.0->tensorflow-intel==2.16.1->tensorflow) (2023.7.22)\n",
      "Requirement already satisfied: markdown>=2.6.8 in c:\\users\\administrator\\downloads\\10-academy\\week-7\\ethiopian-medical-biz-datawarehouse\\.venv\\lib\\site-packages (from tensorboard<2.17,>=2.16->tensorflow-intel==2.16.1->tensorflow) (3.6)\n",
      "Requirement already satisfied: tensorboard-data-server<0.8.0,>=0.7.0 in c:\\users\\administrator\\downloads\\10-academy\\week-7\\ethiopian-medical-biz-datawarehouse\\.venv\\lib\\site-packages (from tensorboard<2.17,>=2.16->tensorflow-intel==2.16.1->tensorflow) (0.7.2)\n",
      "Requirement already satisfied: werkzeug>=1.0.1 in c:\\users\\administrator\\downloads\\10-academy\\week-7\\ethiopian-medical-biz-datawarehouse\\.venv\\lib\\site-packages (from tensorboard<2.17,>=2.16->tensorflow-intel==2.16.1->tensorflow) (3.0.3)\n",
      "Requirement already satisfied: markdown-it-py>=2.2.0 in c:\\users\\administrator\\downloads\\10-academy\\week-7\\ethiopian-medical-biz-datawarehouse\\.venv\\lib\\site-packages (from rich->keras>=3.0.0->tensorflow-intel==2.16.1->tensorflow) (3.0.0)\n",
      "Requirement already satisfied: pygments<3.0.0,>=2.13.0 in c:\\users\\administrator\\downloads\\10-academy\\week-7\\ethiopian-medical-biz-datawarehouse\\.venv\\lib\\site-packages (from rich->keras>=3.0.0->tensorflow-intel==2.16.1->tensorflow) (2.18.0)\n",
      "Requirement already satisfied: mdurl~=0.1 in c:\\users\\administrator\\downloads\\10-academy\\week-7\\ethiopian-medical-biz-datawarehouse\\.venv\\lib\\site-packages (from markdown-it-py>=2.2.0->rich->keras>=3.0.0->tensorflow-intel==2.16.1->tensorflow) (0.1.2)\n",
      "Requirement already satisfied: torch in c:\\users\\administrator\\downloads\\10-academy\\week-7\\ethiopian-medical-biz-datawarehouse\\.venv\\lib\\site-packages (2.3.1)\n",
      "Requirement already satisfied: torchvision in c:\\users\\administrator\\downloads\\10-academy\\week-7\\ethiopian-medical-biz-datawarehouse\\.venv\\lib\\site-packages (0.18.1)\n",
      "Requirement already satisfied: filelock in c:\\users\\administrator\\downloads\\10-academy\\week-7\\ethiopian-medical-biz-datawarehouse\\.venv\\lib\\site-packages (from torch) (3.15.1)\n",
      "Requirement already satisfied: typing-extensions>=4.8.0 in c:\\users\\administrator\\downloads\\10-academy\\week-7\\ethiopian-medical-biz-datawarehouse\\.venv\\lib\\site-packages (from torch) (4.12.2)\n",
      "Requirement already satisfied: sympy in c:\\users\\administrator\\downloads\\10-academy\\week-7\\ethiopian-medical-biz-datawarehouse\\.venv\\lib\\site-packages (from torch) (1.12.1)\n",
      "Requirement already satisfied: networkx in c:\\users\\administrator\\downloads\\10-academy\\week-7\\ethiopian-medical-biz-datawarehouse\\.venv\\lib\\site-packages (from torch) (3.3)\n",
      "Requirement already satisfied: jinja2 in c:\\users\\administrator\\downloads\\10-academy\\week-7\\ethiopian-medical-biz-datawarehouse\\.venv\\lib\\site-packages (from torch) (3.1.4)\n",
      "Requirement already satisfied: fsspec in c:\\users\\administrator\\downloads\\10-academy\\week-7\\ethiopian-medical-biz-datawarehouse\\.venv\\lib\\site-packages (from torch) (2024.6.0)\n",
      "Requirement already satisfied: mkl<=2021.4.0,>=2021.1.1 in c:\\users\\administrator\\downloads\\10-academy\\week-7\\ethiopian-medical-biz-datawarehouse\\.venv\\lib\\site-packages (from torch) (2021.4.0)\n",
      "Requirement already satisfied: numpy in c:\\users\\administrator\\downloads\\10-academy\\week-7\\ethiopian-medical-biz-datawarehouse\\.venv\\lib\\site-packages (from torchvision) (1.26.4)\n",
      "Requirement already satisfied: pillow!=8.3.*,>=5.3.0 in c:\\users\\administrator\\downloads\\10-academy\\week-7\\ethiopian-medical-biz-datawarehouse\\.venv\\lib\\site-packages (from torchvision) (10.3.0)\n",
      "Requirement already satisfied: intel-openmp==2021.* in c:\\users\\administrator\\downloads\\10-academy\\week-7\\ethiopian-medical-biz-datawarehouse\\.venv\\lib\\site-packages (from mkl<=2021.4.0,>=2021.1.1->torch) (2021.4.0)\n",
      "Requirement already satisfied: tbb==2021.* in c:\\users\\administrator\\downloads\\10-academy\\week-7\\ethiopian-medical-biz-datawarehouse\\.venv\\lib\\site-packages (from mkl<=2021.4.0,>=2021.1.1->torch) (2021.12.0)\n",
      "Requirement already satisfied: MarkupSafe>=2.0 in c:\\users\\administrator\\downloads\\10-academy\\week-7\\ethiopian-medical-biz-datawarehouse\\.venv\\lib\\site-packages (from jinja2->torch) (2.1.5)\n",
      "Requirement already satisfied: mpmath<1.4.0,>=1.1.0 in c:\\users\\administrator\\downloads\\10-academy\\week-7\\ethiopian-medical-biz-datawarehouse\\.venv\\lib\\site-packages (from sympy->torch) (1.3.0)\n"
     ]
    }
   ],
   "source": [
    "!pip install opencv-python torch torchvision tensorflow \n",
    "!pip install torch torchvision "
   ]
  },
  {
   "cell_type": "code",
   "execution_count": 3,
   "metadata": {
    "colab": {
     "base_uri": "https://localhost:8080/"
    },
    "id": "4o6gH1kaBw6x",
    "outputId": "1bb890e7-f7db-4d9f-f8a8-3056136467ac"
   },
   "outputs": [
    {
     "name": "stderr",
     "output_type": "stream",
     "text": [
      "Cloning into 'yolov5'...\n"
     ]
    }
   ],
   "source": [
    "!git clone https://github.com/ultralytics/yolov5.git"
   ]
  },
  {
   "cell_type": "code",
   "execution_count": 8,
   "metadata": {},
   "outputs": [
    {
     "name": "stdout",
     "output_type": "stream",
     "text": [
      "Requirement already satisfied: pickleshare in c:\\users\\administrator\\downloads\\10-academy\\week-7\\ethiopian-medical-biz-datawarehouse\\.venv\\lib\\site-packages (0.7.5)\n"
     ]
    }
   ],
   "source": [
    "!pip install pickleshare"
   ]
  },
  {
   "cell_type": "code",
   "execution_count": 2,
   "metadata": {
    "colab": {
     "base_uri": "https://localhost:8080/"
    },
    "id": "NgBdUs66CXFV",
    "outputId": "49cfe91c-6bb7-43ad-992e-429581b4b8a8"
   },
   "outputs": [
    {
     "name": "stdout",
     "output_type": "stream",
     "text": [
      "C:\\Users\\Administrator\\Downloads\\10-Academy\\week-7\\ethiopian-medical-biz-datawarehouse\\notebooks\\yolov5\n"
     ]
    }
   ],
   "source": [
    "%cd yolov5"
   ]
  },
  {
   "cell_type": "code",
   "execution_count": 10,
   "metadata": {
    "colab": {
     "base_uri": "https://localhost:8080/",
     "height": 1000
    },
    "id": "hSDV-LR1Deqd",
    "outputId": "caa6413a-f8ec-4799-d865-6d096bc564bf"
   },
   "outputs": [
    {
     "name": "stdout",
     "output_type": "stream",
     "text": [
      "Requirement already satisfied: gitpython>=3.1.30 in c:\\users\\administrator\\downloads\\10-academy\\week-7\\ethiopian-medical-biz-datawarehouse\\.venv\\lib\\site-packages (from -r requirements.txt (line 5)) (3.1.43)\n",
      "Requirement already satisfied: matplotlib>=3.3 in c:\\users\\administrator\\downloads\\10-academy\\week-7\\ethiopian-medical-biz-datawarehouse\\.venv\\lib\\site-packages (from -r requirements.txt (line 6)) (3.9.0)\n",
      "Requirement already satisfied: numpy>=1.23.5 in c:\\users\\administrator\\downloads\\10-academy\\week-7\\ethiopian-medical-biz-datawarehouse\\.venv\\lib\\site-packages (from -r requirements.txt (line 7)) (1.26.4)\n",
      "Requirement already satisfied: opencv-python>=4.1.1 in c:\\users\\administrator\\downloads\\10-academy\\week-7\\ethiopian-medical-biz-datawarehouse\\.venv\\lib\\site-packages (from -r requirements.txt (line 8)) (4.8.1.78)\n",
      "Requirement already satisfied: pillow>=10.3.0 in c:\\users\\administrator\\downloads\\10-academy\\week-7\\ethiopian-medical-biz-datawarehouse\\.venv\\lib\\site-packages (from -r requirements.txt (line 9)) (10.3.0)\n",
      "Requirement already satisfied: psutil in c:\\users\\administrator\\downloads\\10-academy\\week-7\\ethiopian-medical-biz-datawarehouse\\.venv\\lib\\site-packages (from -r requirements.txt (line 10)) (5.9.8)\n",
      "Requirement already satisfied: PyYAML>=5.3.1 in c:\\users\\administrator\\downloads\\10-academy\\week-7\\ethiopian-medical-biz-datawarehouse\\.venv\\lib\\site-packages (from -r requirements.txt (line 11)) (6.0.1)\n",
      "Requirement already satisfied: requests>=2.32.0 in c:\\users\\administrator\\downloads\\10-academy\\week-7\\ethiopian-medical-biz-datawarehouse\\.venv\\lib\\site-packages (from -r requirements.txt (line 12)) (2.32.3)\n",
      "Requirement already satisfied: scipy>=1.4.1 in c:\\users\\administrator\\downloads\\10-academy\\week-7\\ethiopian-medical-biz-datawarehouse\\.venv\\lib\\site-packages (from -r requirements.txt (line 13)) (1.13.1)\n",
      "Requirement already satisfied: thop>=0.1.1 in c:\\users\\administrator\\downloads\\10-academy\\week-7\\ethiopian-medical-biz-datawarehouse\\.venv\\lib\\site-packages (from -r requirements.txt (line 14)) (0.1.1.post2209072238)\n",
      "Requirement already satisfied: torch>=1.8.0 in c:\\users\\administrator\\downloads\\10-academy\\week-7\\ethiopian-medical-biz-datawarehouse\\.venv\\lib\\site-packages (from -r requirements.txt (line 15)) (2.3.1)\n",
      "Requirement already satisfied: torchvision>=0.9.0 in c:\\users\\administrator\\downloads\\10-academy\\week-7\\ethiopian-medical-biz-datawarehouse\\.venv\\lib\\site-packages (from -r requirements.txt (line 16)) (0.18.1)\n",
      "Requirement already satisfied: tqdm>=4.64.0 in c:\\users\\administrator\\downloads\\10-academy\\week-7\\ethiopian-medical-biz-datawarehouse\\.venv\\lib\\site-packages (from -r requirements.txt (line 17)) (4.66.4)\n",
      "Requirement already satisfied: ultralytics>=8.0.232 in c:\\users\\administrator\\downloads\\10-academy\\week-7\\ethiopian-medical-biz-datawarehouse\\.venv\\lib\\site-packages (from -r requirements.txt (line 18)) (8.2.31)\n",
      "Requirement already satisfied: pandas>=1.1.4 in c:\\users\\administrator\\downloads\\10-academy\\week-7\\ethiopian-medical-biz-datawarehouse\\.venv\\lib\\site-packages (from -r requirements.txt (line 27)) (2.2.2)\n",
      "Requirement already satisfied: seaborn>=0.11.0 in c:\\users\\administrator\\downloads\\10-academy\\week-7\\ethiopian-medical-biz-datawarehouse\\.venv\\lib\\site-packages (from -r requirements.txt (line 28)) (0.13.2)\n",
      "Requirement already satisfied: setuptools>=65.5.1 in c:\\users\\administrator\\downloads\\10-academy\\week-7\\ethiopian-medical-biz-datawarehouse\\.venv\\lib\\site-packages (from -r requirements.txt (line 42)) (70.0.0)\n",
      "Requirement already satisfied: wheel>=0.38.0 in c:\\users\\administrator\\downloads\\10-academy\\week-7\\ethiopian-medical-biz-datawarehouse\\.venv\\lib\\site-packages (from -r requirements.txt (line 50)) (0.43.0)\n",
      "Requirement already satisfied: gitdb<5,>=4.0.1 in c:\\users\\administrator\\downloads\\10-academy\\week-7\\ethiopian-medical-biz-datawarehouse\\.venv\\lib\\site-packages (from gitpython>=3.1.30->-r requirements.txt (line 5)) (4.0.11)\n",
      "Requirement already satisfied: contourpy>=1.0.1 in c:\\users\\administrator\\downloads\\10-academy\\week-7\\ethiopian-medical-biz-datawarehouse\\.venv\\lib\\site-packages (from matplotlib>=3.3->-r requirements.txt (line 6)) (1.2.1)\n",
      "Requirement already satisfied: cycler>=0.10 in c:\\users\\administrator\\downloads\\10-academy\\week-7\\ethiopian-medical-biz-datawarehouse\\.venv\\lib\\site-packages (from matplotlib>=3.3->-r requirements.txt (line 6)) (0.10.0)\n",
      "Requirement already satisfied: fonttools>=4.22.0 in c:\\users\\administrator\\downloads\\10-academy\\week-7\\ethiopian-medical-biz-datawarehouse\\.venv\\lib\\site-packages (from matplotlib>=3.3->-r requirements.txt (line 6)) (4.53.0)\n",
      "Requirement already satisfied: kiwisolver>=1.3.1 in c:\\users\\administrator\\downloads\\10-academy\\week-7\\ethiopian-medical-biz-datawarehouse\\.venv\\lib\\site-packages (from matplotlib>=3.3->-r requirements.txt (line 6)) (1.4.5)\n",
      "Requirement already satisfied: packaging>=20.0 in c:\\users\\administrator\\downloads\\10-academy\\week-7\\ethiopian-medical-biz-datawarehouse\\.venv\\lib\\site-packages (from matplotlib>=3.3->-r requirements.txt (line 6)) (24.1)\n",
      "Requirement already satisfied: pyparsing>=2.3.1 in c:\\users\\administrator\\downloads\\10-academy\\week-7\\ethiopian-medical-biz-datawarehouse\\.venv\\lib\\site-packages (from matplotlib>=3.3->-r requirements.txt (line 6)) (3.1.2)\n",
      "Requirement already satisfied: python-dateutil>=2.7 in c:\\users\\administrator\\downloads\\10-academy\\week-7\\ethiopian-medical-biz-datawarehouse\\.venv\\lib\\site-packages (from matplotlib>=3.3->-r requirements.txt (line 6)) (2.9.0.post0)\n",
      "Requirement already satisfied: charset-normalizer<4,>=2 in c:\\users\\administrator\\downloads\\10-academy\\week-7\\ethiopian-medical-biz-datawarehouse\\.venv\\lib\\site-packages (from requests>=2.32.0->-r requirements.txt (line 12)) (3.3.2)\n",
      "Requirement already satisfied: idna<4,>=2.5 in c:\\users\\administrator\\downloads\\10-academy\\week-7\\ethiopian-medical-biz-datawarehouse\\.venv\\lib\\site-packages (from requests>=2.32.0->-r requirements.txt (line 12)) (2.10)\n",
      "Requirement already satisfied: urllib3<3,>=1.21.1 in c:\\users\\administrator\\downloads\\10-academy\\week-7\\ethiopian-medical-biz-datawarehouse\\.venv\\lib\\site-packages (from requests>=2.32.0->-r requirements.txt (line 12)) (2.2.1)\n",
      "Requirement already satisfied: certifi>=2017.4.17 in c:\\users\\administrator\\downloads\\10-academy\\week-7\\ethiopian-medical-biz-datawarehouse\\.venv\\lib\\site-packages (from requests>=2.32.0->-r requirements.txt (line 12)) (2023.7.22)\n",
      "Requirement already satisfied: filelock in c:\\users\\administrator\\downloads\\10-academy\\week-7\\ethiopian-medical-biz-datawarehouse\\.venv\\lib\\site-packages (from torch>=1.8.0->-r requirements.txt (line 15)) (3.15.1)\n",
      "Requirement already satisfied: typing-extensions>=4.8.0 in c:\\users\\administrator\\downloads\\10-academy\\week-7\\ethiopian-medical-biz-datawarehouse\\.venv\\lib\\site-packages (from torch>=1.8.0->-r requirements.txt (line 15)) (4.12.2)\n",
      "Requirement already satisfied: sympy in c:\\users\\administrator\\downloads\\10-academy\\week-7\\ethiopian-medical-biz-datawarehouse\\.venv\\lib\\site-packages (from torch>=1.8.0->-r requirements.txt (line 15)) (1.12.1)\n",
      "Requirement already satisfied: networkx in c:\\users\\administrator\\downloads\\10-academy\\week-7\\ethiopian-medical-biz-datawarehouse\\.venv\\lib\\site-packages (from torch>=1.8.0->-r requirements.txt (line 15)) (3.3)\n",
      "Requirement already satisfied: jinja2 in c:\\users\\administrator\\downloads\\10-academy\\week-7\\ethiopian-medical-biz-datawarehouse\\.venv\\lib\\site-packages (from torch>=1.8.0->-r requirements.txt (line 15)) (3.1.4)\n",
      "Requirement already satisfied: fsspec in c:\\users\\administrator\\downloads\\10-academy\\week-7\\ethiopian-medical-biz-datawarehouse\\.venv\\lib\\site-packages (from torch>=1.8.0->-r requirements.txt (line 15)) (2024.6.0)\n",
      "Requirement already satisfied: mkl<=2021.4.0,>=2021.1.1 in c:\\users\\administrator\\downloads\\10-academy\\week-7\\ethiopian-medical-biz-datawarehouse\\.venv\\lib\\site-packages (from torch>=1.8.0->-r requirements.txt (line 15)) (2021.4.0)\n",
      "Requirement already satisfied: colorama in c:\\users\\administrator\\downloads\\10-academy\\week-7\\ethiopian-medical-biz-datawarehouse\\.venv\\lib\\site-packages (from tqdm>=4.64.0->-r requirements.txt (line 17)) (0.4.6)\n",
      "Requirement already satisfied: py-cpuinfo in c:\\users\\administrator\\downloads\\10-academy\\week-7\\ethiopian-medical-biz-datawarehouse\\.venv\\lib\\site-packages (from ultralytics>=8.0.232->-r requirements.txt (line 18)) (9.0.0)\n",
      "Requirement already satisfied: ultralytics-thop>=0.2.5 in c:\\users\\administrator\\downloads\\10-academy\\week-7\\ethiopian-medical-biz-datawarehouse\\.venv\\lib\\site-packages (from ultralytics>=8.0.232->-r requirements.txt (line 18)) (0.2.8)\n",
      "Requirement already satisfied: pytz>=2020.1 in c:\\users\\administrator\\downloads\\10-academy\\week-7\\ethiopian-medical-biz-datawarehouse\\.venv\\lib\\site-packages (from pandas>=1.1.4->-r requirements.txt (line 27)) (2024.1)\n",
      "Requirement already satisfied: tzdata>=2022.7 in c:\\users\\administrator\\downloads\\10-academy\\week-7\\ethiopian-medical-biz-datawarehouse\\.venv\\lib\\site-packages (from pandas>=1.1.4->-r requirements.txt (line 27)) (2024.1)\n",
      "Requirement already satisfied: six in c:\\users\\administrator\\downloads\\10-academy\\week-7\\ethiopian-medical-biz-datawarehouse\\.venv\\lib\\site-packages (from cycler>=0.10->matplotlib>=3.3->-r requirements.txt (line 6)) (1.16.0)\n",
      "Requirement already satisfied: smmap<6,>=3.0.1 in c:\\users\\administrator\\downloads\\10-academy\\week-7\\ethiopian-medical-biz-datawarehouse\\.venv\\lib\\site-packages (from gitdb<5,>=4.0.1->gitpython>=3.1.30->-r requirements.txt (line 5)) (5.0.1)\n",
      "Requirement already satisfied: intel-openmp==2021.* in c:\\users\\administrator\\downloads\\10-academy\\week-7\\ethiopian-medical-biz-datawarehouse\\.venv\\lib\\site-packages (from mkl<=2021.4.0,>=2021.1.1->torch>=1.8.0->-r requirements.txt (line 15)) (2021.4.0)\n",
      "Requirement already satisfied: tbb==2021.* in c:\\users\\administrator\\downloads\\10-academy\\week-7\\ethiopian-medical-biz-datawarehouse\\.venv\\lib\\site-packages (from mkl<=2021.4.0,>=2021.1.1->torch>=1.8.0->-r requirements.txt (line 15)) (2021.12.0)\n",
      "Requirement already satisfied: MarkupSafe>=2.0 in c:\\users\\administrator\\downloads\\10-academy\\week-7\\ethiopian-medical-biz-datawarehouse\\.venv\\lib\\site-packages (from jinja2->torch>=1.8.0->-r requirements.txt (line 15)) (2.1.5)\n",
      "Requirement already satisfied: mpmath<1.4.0,>=1.1.0 in c:\\users\\administrator\\downloads\\10-academy\\week-7\\ethiopian-medical-biz-datawarehouse\\.venv\\lib\\site-packages (from sympy->torch>=1.8.0->-r requirements.txt (line 15)) (1.3.0)\n"
     ]
    }
   ],
   "source": [
    "!pip install -r requirements.txt"
   ]
  },
  {
   "cell_type": "code",
   "execution_count": 3,
   "metadata": {
    "id": "D6TPrV6qDkNC"
   },
   "outputs": [],
   "source": [
    "import torch\n",
    "import cv2\n",
    "from pathlib import Path\n",
    "import logging"
   ]
  },
  {
   "cell_type": "code",
   "execution_count": 4,
   "metadata": {
    "colab": {
     "base_uri": "https://localhost:8080/"
    },
    "id": "QcLKGnX-EDyI",
    "outputId": "495d6dc4-9c54-49c9-a9ef-e87057409f67",
    "scrolled": true
   },
   "outputs": [
    {
     "name": "stderr",
     "output_type": "stream",
     "text": [
      "\u001b[34m\u001b[1mdetect: \u001b[0mweights=yolov5s.pt, source=data/telegram_images, data=data\\coco128.yaml, imgsz=[640, 640], conf_thres=0.25, iou_thres=0.45, max_det=1000, device=, view_img=False, save_txt=True, save_csv=False, save_conf=True, save_crop=False, nosave=False, classes=None, agnostic_nms=False, augment=False, visualize=False, update=False, project=results, name=run1, exist_ok=False, line_thickness=3, hide_labels=False, hide_conf=False, half=False, dnn=False, vid_stride=1\n",
      "YOLOv5  v7.0-321-g3742ab49 Python-3.12.0rc3 torch-2.3.1+cpu CPU\n",
      "\n",
      "Fusing layers... \n",
      "YOLOv5s summary: 213 layers, 7225885 parameters, 0 gradients, 16.4 GFLOPs\n",
      "image 1/100 C:\\Users\\Administrator\\Downloads\\10-Academy\\week-7\\ethiopian-medical-biz-datawarehouse\\notebooks\\yolov5\\data\\telegram_images\\9283.jpg: 544x640 (no detections), 203.2ms\n",
      "image 2/100 C:\\Users\\Administrator\\Downloads\\10-Academy\\week-7\\ethiopian-medical-biz-datawarehouse\\notebooks\\yolov5\\data\\telegram_images\\9284.jpg: 640x640 (no detections), 326.6ms\n",
      "image 3/100 C:\\Users\\Administrator\\Downloads\\10-Academy\\week-7\\ethiopian-medical-biz-datawarehouse\\notebooks\\yolov5\\data\\telegram_images\\9285.jpg: 640x640 5 apples, 6 oranges, 229.6ms\n",
      "image 4/100 C:\\Users\\Administrator\\Downloads\\10-Academy\\week-7\\ethiopian-medical-biz-datawarehouse\\notebooks\\yolov5\\data\\telegram_images\\9286.jpg: 640x640 (no detections), 240.5ms\n",
      "image 5/100 C:\\Users\\Administrator\\Downloads\\10-Academy\\week-7\\ethiopian-medical-biz-datawarehouse\\notebooks\\yolov5\\data\\telegram_images\\9287.jpg: 640x640 1 bowl, 215.8ms\n",
      "image 6/100 C:\\Users\\Administrator\\Downloads\\10-Academy\\week-7\\ethiopian-medical-biz-datawarehouse\\notebooks\\yolov5\\data\\telegram_images\\9288.jpg: 640x640 (no detections), 217.1ms\n",
      "image 7/100 C:\\Users\\Administrator\\Downloads\\10-Academy\\week-7\\ethiopian-medical-biz-datawarehouse\\notebooks\\yolov5\\data\\telegram_images\\9289.jpg: 640x640 (no detections), 210.1ms\n",
      "image 8/100 C:\\Users\\Administrator\\Downloads\\10-Academy\\week-7\\ethiopian-medical-biz-datawarehouse\\notebooks\\yolov5\\data\\telegram_images\\9291.jpg: 608x640 1 cup, 237.6ms\n",
      "image 9/100 C:\\Users\\Administrator\\Downloads\\10-Academy\\week-7\\ethiopian-medical-biz-datawarehouse\\notebooks\\yolov5\\data\\telegram_images\\9292.jpg: 640x640 1 cup, 417.2ms\n",
      "image 10/100 C:\\Users\\Administrator\\Downloads\\10-Academy\\week-7\\ethiopian-medical-biz-datawarehouse\\notebooks\\yolov5\\data\\telegram_images\\9293.jpg: 640x640 (no detections), 211.6ms\n",
      "image 11/100 C:\\Users\\Administrator\\Downloads\\10-Academy\\week-7\\ethiopian-medical-biz-datawarehouse\\notebooks\\yolov5\\data\\telegram_images\\9294.jpg: 640x640 (no detections), 213.7ms\n",
      "image 12/100 C:\\Users\\Administrator\\Downloads\\10-Academy\\week-7\\ethiopian-medical-biz-datawarehouse\\notebooks\\yolov5\\data\\telegram_images\\9295.jpg: 640x640 (no detections), 226.1ms\n",
      "image 13/100 C:\\Users\\Administrator\\Downloads\\10-Academy\\week-7\\ethiopian-medical-biz-datawarehouse\\notebooks\\yolov5\\data\\telegram_images\\9296.jpg: 640x640 (no detections), 271.0ms\n",
      "image 14/100 C:\\Users\\Administrator\\Downloads\\10-Academy\\week-7\\ethiopian-medical-biz-datawarehouse\\notebooks\\yolov5\\data\\telegram_images\\9297.jpg: 640x640 (no detections), 225.0ms\n",
      "image 15/100 C:\\Users\\Administrator\\Downloads\\10-Academy\\week-7\\ethiopian-medical-biz-datawarehouse\\notebooks\\yolov5\\data\\telegram_images\\9298.jpg: 640x640 (no detections), 318.0ms\n",
      "image 16/100 C:\\Users\\Administrator\\Downloads\\10-Academy\\week-7\\ethiopian-medical-biz-datawarehouse\\notebooks\\yolov5\\data\\telegram_images\\9299.jpg: 640x640 (no detections), 209.2ms\n",
      "image 17/100 C:\\Users\\Administrator\\Downloads\\10-Academy\\week-7\\ethiopian-medical-biz-datawarehouse\\notebooks\\yolov5\\data\\telegram_images\\9300.jpg: 608x640 (no detections), 254.7ms\n",
      "image 18/100 C:\\Users\\Administrator\\Downloads\\10-Academy\\week-7\\ethiopian-medical-biz-datawarehouse\\notebooks\\yolov5\\data\\telegram_images\\9301.jpg: 640x640 (no detections), 318.6ms\n",
      "image 19/100 C:\\Users\\Administrator\\Downloads\\10-Academy\\week-7\\ethiopian-medical-biz-datawarehouse\\notebooks\\yolov5\\data\\telegram_images\\9302.jpg: 640x640 1 book, 257.7ms\n",
      "image 20/100 C:\\Users\\Administrator\\Downloads\\10-Academy\\week-7\\ethiopian-medical-biz-datawarehouse\\notebooks\\yolov5\\data\\telegram_images\\9303.jpg: 640x640 (no detections), 239.4ms\n",
      "image 21/100 C:\\Users\\Administrator\\Downloads\\10-Academy\\week-7\\ethiopian-medical-biz-datawarehouse\\notebooks\\yolov5\\data\\telegram_images\\9304.jpg: 544x640 1 vase, 192.7ms\n",
      "image 22/100 C:\\Users\\Administrator\\Downloads\\10-Academy\\week-7\\ethiopian-medical-biz-datawarehouse\\notebooks\\yolov5\\data\\telegram_images\\9305.jpg: 640x640 (no detections), 218.6ms\n",
      "image 23/100 C:\\Users\\Administrator\\Downloads\\10-Academy\\week-7\\ethiopian-medical-biz-datawarehouse\\notebooks\\yolov5\\data\\telegram_images\\9306.jpg: 640x640 1 banana, 2 oranges, 200.7ms\n",
      "image 24/100 C:\\Users\\Administrator\\Downloads\\10-Academy\\week-7\\ethiopian-medical-biz-datawarehouse\\notebooks\\yolov5\\data\\telegram_images\\9307.jpg: 640x448 1 apple, 1 orange, 182.3ms\n",
      "image 25/100 C:\\Users\\Administrator\\Downloads\\10-Academy\\week-7\\ethiopian-medical-biz-datawarehouse\\notebooks\\yolov5\\data\\telegram_images\\9308.jpg: 640x480 (no detections), 193.9ms\n",
      "image 26/100 C:\\Users\\Administrator\\Downloads\\10-Academy\\week-7\\ethiopian-medical-biz-datawarehouse\\notebooks\\yolov5\\data\\telegram_images\\9309.jpg: 640x640 1 suitcase, 4 bottles, 2 toilets, 223.7ms\n",
      "image 27/100 C:\\Users\\Administrator\\Downloads\\10-Academy\\week-7\\ethiopian-medical-biz-datawarehouse\\notebooks\\yolov5\\data\\telegram_images\\9310.jpg: 640x640 (no detections), 211.9ms\n",
      "image 28/100 C:\\Users\\Administrator\\Downloads\\10-Academy\\week-7\\ethiopian-medical-biz-datawarehouse\\notebooks\\yolov5\\data\\telegram_images\\9311.jpg: 640x640 (no detections), 289.2ms\n",
      "image 29/100 C:\\Users\\Administrator\\Downloads\\10-Academy\\week-7\\ethiopian-medical-biz-datawarehouse\\notebooks\\yolov5\\data\\telegram_images\\9312.jpg: 640x640 (no detections), 210.6ms\n",
      "image 30/100 C:\\Users\\Administrator\\Downloads\\10-Academy\\week-7\\ethiopian-medical-biz-datawarehouse\\notebooks\\yolov5\\data\\telegram_images\\9313.jpg: 640x640 1 person, 218.5ms\n",
      "image 31/100 C:\\Users\\Administrator\\Downloads\\10-Academy\\week-7\\ethiopian-medical-biz-datawarehouse\\notebooks\\yolov5\\data\\telegram_images\\9314.jpg: 640x480 1 bottle, 193.3ms\n",
      "image 32/100 C:\\Users\\Administrator\\Downloads\\10-Academy\\week-7\\ethiopian-medical-biz-datawarehouse\\notebooks\\yolov5\\data\\telegram_images\\9315.jpg: 640x640 (no detections), 219.0ms\n",
      "image 33/100 C:\\Users\\Administrator\\Downloads\\10-Academy\\week-7\\ethiopian-medical-biz-datawarehouse\\notebooks\\yolov5\\data\\telegram_images\\9316.jpg: 640x640 (no detections), 178.1ms\n",
      "image 34/100 C:\\Users\\Administrator\\Downloads\\10-Academy\\week-7\\ethiopian-medical-biz-datawarehouse\\notebooks\\yolov5\\data\\telegram_images\\9317.jpg: 640x640 (no detections), 206.7ms\n",
      "image 35/100 C:\\Users\\Administrator\\Downloads\\10-Academy\\week-7\\ethiopian-medical-biz-datawarehouse\\notebooks\\yolov5\\data\\telegram_images\\9318.jpg: 640x640 (no detections), 226.6ms\n",
      "image 36/100 C:\\Users\\Administrator\\Downloads\\10-Academy\\week-7\\ethiopian-medical-biz-datawarehouse\\notebooks\\yolov5\\data\\telegram_images\\9319.jpg: 640x640 (no detections), 212.5ms\n",
      "image 37/100 C:\\Users\\Administrator\\Downloads\\10-Academy\\week-7\\ethiopian-medical-biz-datawarehouse\\notebooks\\yolov5\\data\\telegram_images\\9320.jpg: 640x640 (no detections), 244.2ms\n",
      "image 38/100 C:\\Users\\Administrator\\Downloads\\10-Academy\\week-7\\ethiopian-medical-biz-datawarehouse\\notebooks\\yolov5\\data\\telegram_images\\9321.jpg: 640x640 (no detections), 215.9ms\n",
      "image 39/100 C:\\Users\\Administrator\\Downloads\\10-Academy\\week-7\\ethiopian-medical-biz-datawarehouse\\notebooks\\yolov5\\data\\telegram_images\\9322.jpg: 640x640 (no detections), 231.5ms\n",
      "image 40/100 C:\\Users\\Administrator\\Downloads\\10-Academy\\week-7\\ethiopian-medical-biz-datawarehouse\\notebooks\\yolov5\\data\\telegram_images\\9323.jpg: 640x640 (no detections), 220.9ms\n",
      "image 41/100 C:\\Users\\Administrator\\Downloads\\10-Academy\\week-7\\ethiopian-medical-biz-datawarehouse\\notebooks\\yolov5\\data\\telegram_images\\9324.jpg: 640x640 1 person, 235.6ms\n",
      "image 42/100 C:\\Users\\Administrator\\Downloads\\10-Academy\\week-7\\ethiopian-medical-biz-datawarehouse\\notebooks\\yolov5\\data\\telegram_images\\9325.jpg: 640x640 (no detections), 241.3ms\n",
      "image 43/100 C:\\Users\\Administrator\\Downloads\\10-Academy\\week-7\\ethiopian-medical-biz-datawarehouse\\notebooks\\yolov5\\data\\telegram_images\\9326.jpg: 640x640 (no detections), 214.3ms\n",
      "image 44/100 C:\\Users\\Administrator\\Downloads\\10-Academy\\week-7\\ethiopian-medical-biz-datawarehouse\\notebooks\\yolov5\\data\\telegram_images\\9327.jpg: 640x640 (no detections), 234.3ms\n",
      "image 45/100 C:\\Users\\Administrator\\Downloads\\10-Academy\\week-7\\ethiopian-medical-biz-datawarehouse\\notebooks\\yolov5\\data\\telegram_images\\9328.jpg: 640x640 (no detections), 208.2ms\n",
      "image 46/100 C:\\Users\\Administrator\\Downloads\\10-Academy\\week-7\\ethiopian-medical-biz-datawarehouse\\notebooks\\yolov5\\data\\telegram_images\\9329.jpg: 640x640 (no detections), 317.4ms\n",
      "image 47/100 C:\\Users\\Administrator\\Downloads\\10-Academy\\week-7\\ethiopian-medical-biz-datawarehouse\\notebooks\\yolov5\\data\\telegram_images\\9330.jpg: 640x640 1 stop sign, 333.6ms\n",
      "image 48/100 C:\\Users\\Administrator\\Downloads\\10-Academy\\week-7\\ethiopian-medical-biz-datawarehouse\\notebooks\\yolov5\\data\\telegram_images\\9331.jpg: 640x640 (no detections), 230.5ms\n",
      "image 49/100 C:\\Users\\Administrator\\Downloads\\10-Academy\\week-7\\ethiopian-medical-biz-datawarehouse\\notebooks\\yolov5\\data\\telegram_images\\9333.jpg: 640x448 1 apple, 1 orange, 300.5ms\n",
      "image 50/100 C:\\Users\\Administrator\\Downloads\\10-Academy\\week-7\\ethiopian-medical-biz-datawarehouse\\notebooks\\yolov5\\data\\telegram_images\\9334.jpg: 640x640 (no detections), 472.5ms\n",
      "image 51/100 C:\\Users\\Administrator\\Downloads\\10-Academy\\week-7\\ethiopian-medical-biz-datawarehouse\\notebooks\\yolov5\\data\\telegram_images\\9335.jpg: 640x640 (no detections), 416.8ms\n",
      "image 52/100 C:\\Users\\Administrator\\Downloads\\10-Academy\\week-7\\ethiopian-medical-biz-datawarehouse\\notebooks\\yolov5\\data\\telegram_images\\9336.jpg: 416x640 1 bottle, 370.6ms\n",
      "image 53/100 C:\\Users\\Administrator\\Downloads\\10-Academy\\week-7\\ethiopian-medical-biz-datawarehouse\\notebooks\\yolov5\\data\\telegram_images\\9337.jpg: 640x640 (no detections), 455.4ms\n",
      "image 54/100 C:\\Users\\Administrator\\Downloads\\10-Academy\\week-7\\ethiopian-medical-biz-datawarehouse\\notebooks\\yolov5\\data\\telegram_images\\9338.jpg: 640x640 (no detections), 499.8ms\n",
      "image 55/100 C:\\Users\\Administrator\\Downloads\\10-Academy\\week-7\\ethiopian-medical-biz-datawarehouse\\notebooks\\yolov5\\data\\telegram_images\\9339.jpg: 640x640 (no detections), 493.5ms\n",
      "image 56/100 C:\\Users\\Administrator\\Downloads\\10-Academy\\week-7\\ethiopian-medical-biz-datawarehouse\\notebooks\\yolov5\\data\\telegram_images\\9340.jpg: 544x640 (no detections), 310.2ms\n",
      "image 57/100 C:\\Users\\Administrator\\Downloads\\10-Academy\\week-7\\ethiopian-medical-biz-datawarehouse\\notebooks\\yolov5\\data\\telegram_images\\9341.jpg: 640x640 (no detections), 337.3ms\n",
      "image 58/100 C:\\Users\\Administrator\\Downloads\\10-Academy\\week-7\\ethiopian-medical-biz-datawarehouse\\notebooks\\yolov5\\data\\telegram_images\\9344.jpg: 640x640 1 stop sign, 1 orange, 351.3ms\n",
      "image 59/100 C:\\Users\\Administrator\\Downloads\\10-Academy\\week-7\\ethiopian-medical-biz-datawarehouse\\notebooks\\yolov5\\data\\telegram_images\\9346.jpg: 608x640 1 cup, 447.1ms\n",
      "image 60/100 C:\\Users\\Administrator\\Downloads\\10-Academy\\week-7\\ethiopian-medical-biz-datawarehouse\\notebooks\\yolov5\\data\\telegram_images\\9347.jpg: 640x640 1 cup, 393.2ms\n",
      "image 61/100 C:\\Users\\Administrator\\Downloads\\10-Academy\\week-7\\ethiopian-medical-biz-datawarehouse\\notebooks\\yolov5\\data\\telegram_images\\9348.jpg: 640x640 (no detections), 371.9ms\n",
      "image 62/100 C:\\Users\\Administrator\\Downloads\\10-Academy\\week-7\\ethiopian-medical-biz-datawarehouse\\notebooks\\yolov5\\data\\telegram_images\\9349.jpg: 640x640 (no detections), 337.8ms\n",
      "image 63/100 C:\\Users\\Administrator\\Downloads\\10-Academy\\week-7\\ethiopian-medical-biz-datawarehouse\\notebooks\\yolov5\\data\\telegram_images\\9350.jpg: 640x640 (no detections), 308.6ms\n",
      "image 64/100 C:\\Users\\Administrator\\Downloads\\10-Academy\\week-7\\ethiopian-medical-biz-datawarehouse\\notebooks\\yolov5\\data\\telegram_images\\9351.jpg: 640x640 (no detections), 366.6ms\n",
      "image 65/100 C:\\Users\\Administrator\\Downloads\\10-Academy\\week-7\\ethiopian-medical-biz-datawarehouse\\notebooks\\yolov5\\data\\telegram_images\\9352.jpg: 640x640 (no detections), 413.1ms\n",
      "image 66/100 C:\\Users\\Administrator\\Downloads\\10-Academy\\week-7\\ethiopian-medical-biz-datawarehouse\\notebooks\\yolov5\\data\\telegram_images\\9353.jpg: 640x640 (no detections), 348.8ms\n",
      "image 67/100 C:\\Users\\Administrator\\Downloads\\10-Academy\\week-7\\ethiopian-medical-biz-datawarehouse\\notebooks\\yolov5\\data\\telegram_images\\9354.jpg: 640x640 (no detections), 380.3ms\n",
      "image 68/100 C:\\Users\\Administrator\\Downloads\\10-Academy\\week-7\\ethiopian-medical-biz-datawarehouse\\notebooks\\yolov5\\data\\telegram_images\\9355.jpg: 640x640 (no detections), 277.0ms\n",
      "image 69/100 C:\\Users\\Administrator\\Downloads\\10-Academy\\week-7\\ethiopian-medical-biz-datawarehouse\\notebooks\\yolov5\\data\\telegram_images\\9356.jpg: 640x640 1 person, 1 frisbee, 345.9ms\n",
      "image 70/100 C:\\Users\\Administrator\\Downloads\\10-Academy\\week-7\\ethiopian-medical-biz-datawarehouse\\notebooks\\yolov5\\data\\telegram_images\\9357.jpg: 640x640 1 suitcase, 4 bottles, 2 toilets, 355.9ms\n",
      "image 71/100 C:\\Users\\Administrator\\Downloads\\10-Academy\\week-7\\ethiopian-medical-biz-datawarehouse\\notebooks\\yolov5\\data\\telegram_images\\9358.jpg: 640x640 (no detections), 426.3ms\n",
      "image 72/100 C:\\Users\\Administrator\\Downloads\\10-Academy\\week-7\\ethiopian-medical-biz-datawarehouse\\notebooks\\yolov5\\data\\telegram_images\\9359.jpg: 640x640 (no detections), 335.9ms\n",
      "image 73/100 C:\\Users\\Administrator\\Downloads\\10-Academy\\week-7\\ethiopian-medical-biz-datawarehouse\\notebooks\\yolov5\\data\\telegram_images\\9360.jpg: 640x640 (no detections), 336.5ms\n",
      "image 74/100 C:\\Users\\Administrator\\Downloads\\10-Academy\\week-7\\ethiopian-medical-biz-datawarehouse\\notebooks\\yolov5\\data\\telegram_images\\9361.jpg: 640x640 1 person, 354.0ms\n",
      "image 75/100 C:\\Users\\Administrator\\Downloads\\10-Academy\\week-7\\ethiopian-medical-biz-datawarehouse\\notebooks\\yolov5\\data\\telegram_images\\9362.jpg: 640x640 1 person, 349.1ms\n",
      "image 76/100 C:\\Users\\Administrator\\Downloads\\10-Academy\\week-7\\ethiopian-medical-biz-datawarehouse\\notebooks\\yolov5\\data\\telegram_images\\9363.jpg: 640x480 1 bottle, 298.3ms\n",
      "image 77/100 C:\\Users\\Administrator\\Downloads\\10-Academy\\week-7\\ethiopian-medical-biz-datawarehouse\\notebooks\\yolov5\\data\\telegram_images\\9364.jpg: 640x640 (no detections), 459.6ms\n",
      "image 78/100 C:\\Users\\Administrator\\Downloads\\10-Academy\\week-7\\ethiopian-medical-biz-datawarehouse\\notebooks\\yolov5\\data\\telegram_images\\9365.jpg: 640x640 (no detections), 323.6ms\n",
      "image 79/100 C:\\Users\\Administrator\\Downloads\\10-Academy\\week-7\\ethiopian-medical-biz-datawarehouse\\notebooks\\yolov5\\data\\telegram_images\\9366.jpg: 640x640 (no detections), 486.4ms\n",
      "image 80/100 C:\\Users\\Administrator\\Downloads\\10-Academy\\week-7\\ethiopian-medical-biz-datawarehouse\\notebooks\\yolov5\\data\\telegram_images\\9367.jpg: 640x640 (no detections), 636.6ms\n",
      "image 81/100 C:\\Users\\Administrator\\Downloads\\10-Academy\\week-7\\ethiopian-medical-biz-datawarehouse\\notebooks\\yolov5\\data\\telegram_images\\9368.jpg: 640x640 (no detections), 540.1ms\n",
      "image 82/100 C:\\Users\\Administrator\\Downloads\\10-Academy\\week-7\\ethiopian-medical-biz-datawarehouse\\notebooks\\yolov5\\data\\telegram_images\\9369.jpg: 640x640 (no detections), 362.1ms\n",
      "image 83/100 C:\\Users\\Administrator\\Downloads\\10-Academy\\week-7\\ethiopian-medical-biz-datawarehouse\\notebooks\\yolov5\\data\\telegram_images\\9370.jpg: 640x480 (no detections), 257.7ms\n",
      "image 84/100 C:\\Users\\Administrator\\Downloads\\10-Academy\\week-7\\ethiopian-medical-biz-datawarehouse\\notebooks\\yolov5\\data\\telegram_images\\9371.jpg: 640x640 (no detections), 347.6ms\n",
      "image 85/100 C:\\Users\\Administrator\\Downloads\\10-Academy\\week-7\\ethiopian-medical-biz-datawarehouse\\notebooks\\yolov5\\data\\telegram_images\\9373.jpg: 640x640 (no detections), 369.3ms\n",
      "image 86/100 C:\\Users\\Administrator\\Downloads\\10-Academy\\week-7\\ethiopian-medical-biz-datawarehouse\\notebooks\\yolov5\\data\\telegram_images\\9374.jpg: 640x640 1 person, 341.6ms\n",
      "image 87/100 C:\\Users\\Administrator\\Downloads\\10-Academy\\week-7\\ethiopian-medical-biz-datawarehouse\\notebooks\\yolov5\\data\\telegram_images\\9375.jpg: 640x640 (no detections), 414.3ms\n",
      "image 88/100 C:\\Users\\Administrator\\Downloads\\10-Academy\\week-7\\ethiopian-medical-biz-datawarehouse\\notebooks\\yolov5\\data\\telegram_images\\9376.jpg: 640x640 (no detections), 411.0ms\n",
      "image 89/100 C:\\Users\\Administrator\\Downloads\\10-Academy\\week-7\\ethiopian-medical-biz-datawarehouse\\notebooks\\yolov5\\data\\telegram_images\\9377.jpg: 576x640 (no detections), 357.8ms\n",
      "image 90/100 C:\\Users\\Administrator\\Downloads\\10-Academy\\week-7\\ethiopian-medical-biz-datawarehouse\\notebooks\\yolov5\\data\\telegram_images\\9378.jpg: 640x640 (no detections), 361.6ms\n",
      "image 91/100 C:\\Users\\Administrator\\Downloads\\10-Academy\\week-7\\ethiopian-medical-biz-datawarehouse\\notebooks\\yolov5\\data\\telegram_images\\9379.jpg: 576x640 (no detections), 306.8ms\n",
      "image 92/100 C:\\Users\\Administrator\\Downloads\\10-Academy\\week-7\\ethiopian-medical-biz-datawarehouse\\notebooks\\yolov5\\data\\telegram_images\\9380.jpg: 576x640 (no detections), 403.9ms\n",
      "image 93/100 C:\\Users\\Administrator\\Downloads\\10-Academy\\week-7\\ethiopian-medical-biz-datawarehouse\\notebooks\\yolov5\\data\\telegram_images\\9381.jpg: 576x640 (no detections), 296.1ms\n",
      "image 94/100 C:\\Users\\Administrator\\Downloads\\10-Academy\\week-7\\ethiopian-medical-biz-datawarehouse\\notebooks\\yolov5\\data\\telegram_images\\9382.jpg: 640x640 3 bottles, 339.8ms\n",
      "image 95/100 C:\\Users\\Administrator\\Downloads\\10-Academy\\week-7\\ethiopian-medical-biz-datawarehouse\\notebooks\\yolov5\\data\\telegram_images\\9383.jpg: 640x640 (no detections), 301.1ms\n",
      "image 96/100 C:\\Users\\Administrator\\Downloads\\10-Academy\\week-7\\ethiopian-medical-biz-datawarehouse\\notebooks\\yolov5\\data\\telegram_images\\9384.jpg: 640x640 1 person, 339.5ms\n",
      "image 97/100 C:\\Users\\Administrator\\Downloads\\10-Academy\\week-7\\ethiopian-medical-biz-datawarehouse\\notebooks\\yolov5\\data\\telegram_images\\9385.jpg: 640x480 1 bottle, 274.6ms\n",
      "image 98/100 C:\\Users\\Administrator\\Downloads\\10-Academy\\week-7\\ethiopian-medical-biz-datawarehouse\\notebooks\\yolov5\\data\\telegram_images\\9386.jpg: 640x640 (no detections), 419.2ms\n",
      "image 99/100 C:\\Users\\Administrator\\Downloads\\10-Academy\\week-7\\ethiopian-medical-biz-datawarehouse\\notebooks\\yolov5\\data\\telegram_images\\9387.jpg: 640x640 (no detections), 357.5ms\n",
      "image 100/100 C:\\Users\\Administrator\\Downloads\\10-Academy\\week-7\\ethiopian-medical-biz-datawarehouse\\notebooks\\yolov5\\data\\telegram_images\\9388.jpg: 640x640 (no detections), 272.9ms\n",
      "Speed: 2.2ms pre-process, 307.8ms inference, 0.9ms NMS per image at shape (1, 3, 640, 640)\n",
      "Results saved to \u001b[1mresults\\run13\u001b[0m\n",
      "27 labels saved to results\\run13\\labels\n"
     ]
    }
   ],
   "source": [
    "!python detect.py --source data/telegram_images --save-txt --save-conf --project results --name run1"
   ]
  },
  {
   "cell_type": "code",
   "execution_count": null,
   "metadata": {
    "id": "wnM7UqEqIWb3"
   },
   "outputs": [],
   "source": []
  }
 ],
 "metadata": {
  "colab": {
   "provenance": []
  },
  "kernelspec": {
   "display_name": "Python 3 (ipykernel)",
   "language": "python",
   "name": "python3"
  },
  "language_info": {
   "codemirror_mode": {
    "name": "ipython",
    "version": 3
   },
   "file_extension": ".py",
   "mimetype": "text/x-python",
   "name": "python",
   "nbconvert_exporter": "python",
   "pygments_lexer": "ipython3",
   "version": "3.12.0rc3"
  }
 },
 "nbformat": 4,
 "nbformat_minor": 4
}
